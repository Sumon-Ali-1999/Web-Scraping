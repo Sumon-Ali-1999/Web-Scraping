{
 "cells": [
  {
   "cell_type": "code",
   "execution_count": 1,
   "id": "f0a0cb88",
   "metadata": {},
   "outputs": [],
   "source": [
    "from selenium import webdriver\n",
    "from selenium.webdriver.common.by import By\n",
    "from selenium.webdriver.common.keys import Keys\n",
    "from selenium.webdriver.chrome.service import Service\n"
   ]
  },
  {
   "cell_type": "code",
   "execution_count": 2,
   "id": "62b4d281",
   "metadata": {},
   "outputs": [],
   "source": [
    "service_obj=Service(r\"E:\\chromedriver-win64\\chromedriver.exe\")\n",
    "driver=webdriver.Chrome(service=service_obj)\n",
    "import time\n",
    "driver.maximize_window()"
   ]
  },
  {
   "cell_type": "code",
   "execution_count": 3,
   "id": "41897b39",
   "metadata": {},
   "outputs": [],
   "source": [
    "driver.get(\"https://myanimelist.net/\")\n",
    "driver.find_element(By.XPATH,\"(//a[@class='view_more fl-r'])[1]\").click()"
   ]
  },
  {
   "cell_type": "code",
   "execution_count": 4,
   "id": "f72fc738",
   "metadata": {},
   "outputs": [],
   "source": [
    "titles=driver.find_elements(By.XPATH,\"(//td[@class='title al va-t word-break'])\")"
   ]
  },
  {
   "cell_type": "code",
   "execution_count": 5,
   "id": "2bcf07b8",
   "metadata": {},
   "outputs": [
    {
     "data": {
      "text/plain": [
       "50"
      ]
     },
     "execution_count": 5,
     "metadata": {},
     "output_type": "execute_result"
    }
   ],
   "source": [
    "len(titles)"
   ]
  },
  {
   "cell_type": "code",
   "execution_count": 9,
   "id": "3f4c3c25",
   "metadata": {},
   "outputs": [
    {
     "data": {
      "text/plain": [
       "50"
      ]
     },
     "execution_count": 9,
     "metadata": {},
     "output_type": "execute_result"
    }
   ],
   "source": [
    "ratings=driver.find_elements(By.XPATH,\"(//td[@class='score ac fs14'])\")\n",
    "len(ratings)"
   ]
  },
  {
   "cell_type": "code",
   "execution_count": 10,
   "id": "d1c45be6",
   "metadata": {},
   "outputs": [],
   "source": [
    "ranks=[]\n",
    "names=[]\n",
    "descs=[]\n",
    "scores=[]\n",
    "i=0"
   ]
  },
  {
   "cell_type": "code",
   "execution_count": 13,
   "id": "890e9286",
   "metadata": {},
   "outputs": [],
   "source": [
    "for j in titles:\n",
    "\n",
    "    name_ele = j.find_element(By.XPATH, \".//a[@class='hoverinfo_trigger']\")\n",
    "    desc_ele = j.find_element(By.XPATH, \".//div[@class='information di-ib mt4']\")\n",
    "    name = name_ele.text\n",
    "    names.append(name)\n",
    "    desc = desc_ele.text\n",
    "    descs.append(desc)\n",
    "    i=i+1\n",
    "    ranks.append(i)\n",
    "\n",
    "###\n",
    "for k in ratings:\n",
    "\n",
    "    score_ele = k.find_element(By.XPATH, \".//div[@class='js-top-ranking-score-col di-ib al']\")\n",
    "    score = score_ele.text\n",
    "    scores.append(score)"
   ]
  },
  {
   "cell_type": "markdown",
   "id": "b96b3d68",
   "metadata": {},
   "source": [
    "## converting it into .csv file and array"
   ]
  },
  {
   "cell_type": "code",
   "execution_count": 19,
   "id": "ac6a9faf",
   "metadata": {},
   "outputs": [
    {
     "data": {
      "text/html": [
       "<div>\n",
       "<style scoped>\n",
       "    .dataframe tbody tr th:only-of-type {\n",
       "        vertical-align: middle;\n",
       "    }\n",
       "\n",
       "    .dataframe tbody tr th {\n",
       "        vertical-align: top;\n",
       "    }\n",
       "\n",
       "    .dataframe thead th {\n",
       "        text-align: right;\n",
       "    }\n",
       "</style>\n",
       "<table border=\"1\" class=\"dataframe\">\n",
       "  <thead>\n",
       "    <tr style=\"text-align: right;\">\n",
       "      <th></th>\n",
       "      <th>Rank</th>\n",
       "      <th>Anime_Name</th>\n",
       "      <th>Anime_ Description</th>\n",
       "      <th>Score</th>\n",
       "    </tr>\n",
       "  </thead>\n",
       "  <tbody>\n",
       "    <tr>\n",
       "      <th>0</th>\n",
       "      <td>1</td>\n",
       "      <td>Fullmetal Alchemist: Brotherhood</td>\n",
       "      <td>TV (64 eps)\\nApr 2009 - Jul 2010\\n3,230,444 me...</td>\n",
       "      <td>9.10</td>\n",
       "    </tr>\n",
       "    <tr>\n",
       "      <th>1</th>\n",
       "      <td>2</td>\n",
       "      <td>Steins;Gate</td>\n",
       "      <td>TV (24 eps)\\nApr 2011 - Sep 2011\\n2,482,734 me...</td>\n",
       "      <td>9.07</td>\n",
       "    </tr>\n",
       "    <tr>\n",
       "      <th>2</th>\n",
       "      <td>3</td>\n",
       "      <td>Gintama°</td>\n",
       "      <td>TV (51 eps)\\nApr 2015 - Mar 2016\\n607,784 members</td>\n",
       "      <td>9.06</td>\n",
       "    </tr>\n",
       "    <tr>\n",
       "      <th>3</th>\n",
       "      <td>4</td>\n",
       "      <td>Bleach: Sennen Kessen-hen</td>\n",
       "      <td>TV (13 eps)\\nOct 2022 - Dec 2022\\n482,156 members</td>\n",
       "      <td>9.05</td>\n",
       "    </tr>\n",
       "    <tr>\n",
       "      <th>4</th>\n",
       "      <td>5</td>\n",
       "      <td>Shingeki no Kyojin Season 3 Part 2</td>\n",
       "      <td>TV (10 eps)\\nApr 2019 - Jul 2019\\n2,158,800 me...</td>\n",
       "      <td>9.05</td>\n",
       "    </tr>\n",
       "  </tbody>\n",
       "</table>\n",
       "</div>"
      ],
      "text/plain": [
       "   Rank                          Anime_Name  \\\n",
       "0     1    Fullmetal Alchemist: Brotherhood   \n",
       "1     2                         Steins;Gate   \n",
       "2     3                            Gintama°   \n",
       "3     4           Bleach: Sennen Kessen-hen   \n",
       "4     5  Shingeki no Kyojin Season 3 Part 2   \n",
       "\n",
       "                                  Anime_ Description Score  \n",
       "0  TV (64 eps)\\nApr 2009 - Jul 2010\\n3,230,444 me...  9.10  \n",
       "1  TV (24 eps)\\nApr 2011 - Sep 2011\\n2,482,734 me...  9.07  \n",
       "2  TV (51 eps)\\nApr 2015 - Mar 2016\\n607,784 members  9.06  \n",
       "3  TV (13 eps)\\nOct 2022 - Dec 2022\\n482,156 members  9.05  \n",
       "4  TV (10 eps)\\nApr 2019 - Jul 2019\\n2,158,800 me...  9.05  "
      ]
     },
     "execution_count": 19,
     "metadata": {},
     "output_type": "execute_result"
    }
   ],
   "source": [
    "import pandas as pd\n",
    "data={'Rank':ranks,'Anime_Name':names,'Anime_ Description':descs,'Score':scores}\n",
    "df=pd.DataFrame(data)\n",
    "df.head()"
   ]
  },
  {
   "cell_type": "code",
   "execution_count": 20,
   "id": "664717d8",
   "metadata": {},
   "outputs": [],
   "source": [
    "df.to_csv(\"1903004.csv\",index=False)"
   ]
  },
  {
   "cell_type": "code",
   "execution_count": null,
   "id": "c6fad2a8",
   "metadata": {},
   "outputs": [],
   "source": []
  }
 ],
 "metadata": {
  "kernelspec": {
   "display_name": "Python 3 (ipykernel)",
   "language": "python",
   "name": "python3"
  },
  "language_info": {
   "codemirror_mode": {
    "name": "ipython",
    "version": 3
   },
   "file_extension": ".py",
   "mimetype": "text/x-python",
   "name": "python",
   "nbconvert_exporter": "python",
   "pygments_lexer": "ipython3",
   "version": "3.10.8"
  }
 },
 "nbformat": 4,
 "nbformat_minor": 5
}
